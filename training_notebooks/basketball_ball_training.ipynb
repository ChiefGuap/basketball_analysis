{
 "cells": [
  {
   "cell_type": "markdown",
   "metadata": {
    "id": "hD5P4Ezojs8M"
   },
   "source": [
    "# Install Libraries"
   ]
  },
  {
   "cell_type": "code",
   "execution_count": 1,
   "metadata": {
    "colab": {
     "base_uri": "https://localhost:8080/"
    },
    "id": "PDMCerEVRO1J",
    "outputId": "c66ac944-ba7f-40ef-ab36-5d25b121052c"
   },
   "outputs": [
    {
     "name": "stdout",
     "output_type": "stream",
     "text": [
      "Requirement already satisfied: ultralytics in /Users/theraq17/Documents/GitHub/basketball_analysis/.venv/lib/python3.10/site-packages (8.3.67)\n",
      "Requirement already satisfied: numpy>=1.23.0 in /Users/theraq17/Documents/GitHub/basketball_analysis/.venv/lib/python3.10/site-packages (from ultralytics) (1.24.4)\n",
      "Requirement already satisfied: matplotlib>=3.3.0 in /Users/theraq17/Documents/GitHub/basketball_analysis/.venv/lib/python3.10/site-packages (from ultralytics) (3.10.3)\n",
      "Requirement already satisfied: opencv-python>=4.6.0 in /Users/theraq17/Documents/GitHub/basketball_analysis/.venv/lib/python3.10/site-packages (from ultralytics) (4.9.0.80)\n",
      "Requirement already satisfied: pillow>=7.1.2 in /Users/theraq17/Documents/GitHub/basketball_analysis/.venv/lib/python3.10/site-packages (from ultralytics) (11.1.0)\n",
      "Requirement already satisfied: pyyaml>=5.3.1 in /Users/theraq17/Documents/GitHub/basketball_analysis/.venv/lib/python3.10/site-packages (from ultralytics) (6.0.2)\n",
      "Requirement already satisfied: requests>=2.23.0 in /Users/theraq17/Documents/GitHub/basketball_analysis/.venv/lib/python3.10/site-packages (from ultralytics) (2.32.4)\n",
      "Requirement already satisfied: scipy>=1.4.1 in /Users/theraq17/Documents/GitHub/basketball_analysis/.venv/lib/python3.10/site-packages (from ultralytics) (1.15.3)\n",
      "Requirement already satisfied: torch>=1.8.0 in /Users/theraq17/Documents/GitHub/basketball_analysis/.venv/lib/python3.10/site-packages (from ultralytics) (2.2.0)\n",
      "Requirement already satisfied: torchvision>=0.9.0 in /Users/theraq17/Documents/GitHub/basketball_analysis/.venv/lib/python3.10/site-packages (from ultralytics) (0.17.0)\n",
      "Requirement already satisfied: tqdm>=4.64.0 in /Users/theraq17/Documents/GitHub/basketball_analysis/.venv/lib/python3.10/site-packages (from ultralytics) (4.67.1)\n",
      "Requirement already satisfied: psutil in /Users/theraq17/Documents/GitHub/basketball_analysis/.venv/lib/python3.10/site-packages (from ultralytics) (7.0.0)\n",
      "Requirement already satisfied: py-cpuinfo in /Users/theraq17/Documents/GitHub/basketball_analysis/.venv/lib/python3.10/site-packages (from ultralytics) (9.0.0)\n",
      "Requirement already satisfied: pandas>=1.1.4 in /Users/theraq17/Documents/GitHub/basketball_analysis/.venv/lib/python3.10/site-packages (from ultralytics) (2.0.3)\n",
      "Requirement already satisfied: seaborn>=0.11.0 in /Users/theraq17/Documents/GitHub/basketball_analysis/.venv/lib/python3.10/site-packages (from ultralytics) (0.13.2)\n",
      "Requirement already satisfied: ultralytics-thop>=2.0.0 in /Users/theraq17/Documents/GitHub/basketball_analysis/.venv/lib/python3.10/site-packages (from ultralytics) (2.0.14)\n",
      "Requirement already satisfied: contourpy>=1.0.1 in /Users/theraq17/Documents/GitHub/basketball_analysis/.venv/lib/python3.10/site-packages (from matplotlib>=3.3.0->ultralytics) (1.3.2)\n",
      "Requirement already satisfied: cycler>=0.10 in /Users/theraq17/Documents/GitHub/basketball_analysis/.venv/lib/python3.10/site-packages (from matplotlib>=3.3.0->ultralytics) (0.12.1)\n",
      "Requirement already satisfied: fonttools>=4.22.0 in /Users/theraq17/Documents/GitHub/basketball_analysis/.venv/lib/python3.10/site-packages (from matplotlib>=3.3.0->ultralytics) (4.59.0)\n",
      "Requirement already satisfied: kiwisolver>=1.3.1 in /Users/theraq17/Documents/GitHub/basketball_analysis/.venv/lib/python3.10/site-packages (from matplotlib>=3.3.0->ultralytics) (1.4.8)\n",
      "Requirement already satisfied: packaging>=20.0 in /Users/theraq17/Documents/GitHub/basketball_analysis/.venv/lib/python3.10/site-packages (from matplotlib>=3.3.0->ultralytics) (25.0)\n",
      "Requirement already satisfied: pyparsing>=2.3.1 in /Users/theraq17/Documents/GitHub/basketball_analysis/.venv/lib/python3.10/site-packages (from matplotlib>=3.3.0->ultralytics) (3.2.3)\n",
      "Requirement already satisfied: python-dateutil>=2.7 in /Users/theraq17/Documents/GitHub/basketball_analysis/.venv/lib/python3.10/site-packages (from matplotlib>=3.3.0->ultralytics) (2.9.0.post0)\n",
      "Requirement already satisfied: pytz>=2020.1 in /Users/theraq17/Documents/GitHub/basketball_analysis/.venv/lib/python3.10/site-packages (from pandas>=1.1.4->ultralytics) (2025.2)\n",
      "Requirement already satisfied: tzdata>=2022.1 in /Users/theraq17/Documents/GitHub/basketball_analysis/.venv/lib/python3.10/site-packages (from pandas>=1.1.4->ultralytics) (2025.2)\n",
      "Requirement already satisfied: six>=1.5 in /Users/theraq17/Documents/GitHub/basketball_analysis/.venv/lib/python3.10/site-packages (from python-dateutil>=2.7->matplotlib>=3.3.0->ultralytics) (1.17.0)\n",
      "Requirement already satisfied: charset_normalizer<4,>=2 in /Users/theraq17/Documents/GitHub/basketball_analysis/.venv/lib/python3.10/site-packages (from requests>=2.23.0->ultralytics) (3.4.2)\n",
      "Requirement already satisfied: idna<4,>=2.5 in /Users/theraq17/Documents/GitHub/basketball_analysis/.venv/lib/python3.10/site-packages (from requests>=2.23.0->ultralytics) (3.7)\n",
      "Requirement already satisfied: urllib3<3,>=1.21.1 in /Users/theraq17/Documents/GitHub/basketball_analysis/.venv/lib/python3.10/site-packages (from requests>=2.23.0->ultralytics) (2.5.0)\n",
      "Requirement already satisfied: certifi>=2017.4.17 in /Users/theraq17/Documents/GitHub/basketball_analysis/.venv/lib/python3.10/site-packages (from requests>=2.23.0->ultralytics) (2025.7.14)\n",
      "Requirement already satisfied: filelock in /Users/theraq17/Documents/GitHub/basketball_analysis/.venv/lib/python3.10/site-packages (from torch>=1.8.0->ultralytics) (3.18.0)\n",
      "Requirement already satisfied: typing-extensions>=4.8.0 in /Users/theraq17/Documents/GitHub/basketball_analysis/.venv/lib/python3.10/site-packages (from torch>=1.8.0->ultralytics) (4.14.1)\n",
      "Requirement already satisfied: sympy in /Users/theraq17/Documents/GitHub/basketball_analysis/.venv/lib/python3.10/site-packages (from torch>=1.8.0->ultralytics) (1.14.0)\n",
      "Requirement already satisfied: networkx in /Users/theraq17/Documents/GitHub/basketball_analysis/.venv/lib/python3.10/site-packages (from torch>=1.8.0->ultralytics) (3.4.2)\n",
      "Requirement already satisfied: jinja2 in /Users/theraq17/Documents/GitHub/basketball_analysis/.venv/lib/python3.10/site-packages (from torch>=1.8.0->ultralytics) (3.1.6)\n",
      "Requirement already satisfied: fsspec in /Users/theraq17/Documents/GitHub/basketball_analysis/.venv/lib/python3.10/site-packages (from torch>=1.8.0->ultralytics) (2025.7.0)\n",
      "Requirement already satisfied: MarkupSafe>=2.0 in /Users/theraq17/Documents/GitHub/basketball_analysis/.venv/lib/python3.10/site-packages (from jinja2->torch>=1.8.0->ultralytics) (3.0.2)\n",
      "Requirement already satisfied: mpmath<1.4,>=1.1.0 in /Users/theraq17/Documents/GitHub/basketball_analysis/.venv/lib/python3.10/site-packages (from sympy->torch>=1.8.0->ultralytics) (1.3.0)\n",
      "Requirement already satisfied: roboflow in /Users/theraq17/Documents/GitHub/basketball_analysis/.venv/lib/python3.10/site-packages (1.1.51)\n",
      "Requirement already satisfied: certifi in /Users/theraq17/Documents/GitHub/basketball_analysis/.venv/lib/python3.10/site-packages (from roboflow) (2025.7.14)\n",
      "Requirement already satisfied: idna==3.7 in /Users/theraq17/Documents/GitHub/basketball_analysis/.venv/lib/python3.10/site-packages (from roboflow) (3.7)\n",
      "Requirement already satisfied: cycler in /Users/theraq17/Documents/GitHub/basketball_analysis/.venv/lib/python3.10/site-packages (from roboflow) (0.12.1)\n",
      "Requirement already satisfied: kiwisolver>=1.3.1 in /Users/theraq17/Documents/GitHub/basketball_analysis/.venv/lib/python3.10/site-packages (from roboflow) (1.4.8)\n",
      "Requirement already satisfied: matplotlib in /Users/theraq17/Documents/GitHub/basketball_analysis/.venv/lib/python3.10/site-packages (from roboflow) (3.10.3)\n",
      "Requirement already satisfied: numpy>=1.18.5 in /Users/theraq17/Documents/GitHub/basketball_analysis/.venv/lib/python3.10/site-packages (from roboflow) (1.24.4)\n",
      "Requirement already satisfied: opencv-python-headless==4.10.0.84 in /Users/theraq17/Documents/GitHub/basketball_analysis/.venv/lib/python3.10/site-packages (from roboflow) (4.10.0.84)\n",
      "Requirement already satisfied: Pillow>=7.1.2 in /Users/theraq17/Documents/GitHub/basketball_analysis/.venv/lib/python3.10/site-packages (from roboflow) (11.1.0)\n",
      "Requirement already satisfied: python-dateutil in /Users/theraq17/Documents/GitHub/basketball_analysis/.venv/lib/python3.10/site-packages (from roboflow) (2.9.0.post0)\n",
      "Requirement already satisfied: python-dotenv in /Users/theraq17/Documents/GitHub/basketball_analysis/.venv/lib/python3.10/site-packages (from roboflow) (1.1.1)\n",
      "Requirement already satisfied: requests in /Users/theraq17/Documents/GitHub/basketball_analysis/.venv/lib/python3.10/site-packages (from roboflow) (2.32.4)\n",
      "Requirement already satisfied: six in /Users/theraq17/Documents/GitHub/basketball_analysis/.venv/lib/python3.10/site-packages (from roboflow) (1.17.0)\n",
      "Requirement already satisfied: urllib3>=1.26.6 in /Users/theraq17/Documents/GitHub/basketball_analysis/.venv/lib/python3.10/site-packages (from roboflow) (2.5.0)\n",
      "Requirement already satisfied: tqdm>=4.41.0 in /Users/theraq17/Documents/GitHub/basketball_analysis/.venv/lib/python3.10/site-packages (from roboflow) (4.67.1)\n",
      "Requirement already satisfied: PyYAML>=5.3.1 in /Users/theraq17/Documents/GitHub/basketball_analysis/.venv/lib/python3.10/site-packages (from roboflow) (6.0.2)\n",
      "Requirement already satisfied: requests-toolbelt in /Users/theraq17/Documents/GitHub/basketball_analysis/.venv/lib/python3.10/site-packages (from roboflow) (1.0.0)\n",
      "Requirement already satisfied: filetype in /Users/theraq17/Documents/GitHub/basketball_analysis/.venv/lib/python3.10/site-packages (from roboflow) (1.2.0)\n",
      "Requirement already satisfied: contourpy>=1.0.1 in /Users/theraq17/Documents/GitHub/basketball_analysis/.venv/lib/python3.10/site-packages (from matplotlib->roboflow) (1.3.2)\n",
      "Requirement already satisfied: fonttools>=4.22.0 in /Users/theraq17/Documents/GitHub/basketball_analysis/.venv/lib/python3.10/site-packages (from matplotlib->roboflow) (4.59.0)\n",
      "Requirement already satisfied: packaging>=20.0 in /Users/theraq17/Documents/GitHub/basketball_analysis/.venv/lib/python3.10/site-packages (from matplotlib->roboflow) (25.0)\n",
      "Requirement already satisfied: pyparsing>=2.3.1 in /Users/theraq17/Documents/GitHub/basketball_analysis/.venv/lib/python3.10/site-packages (from matplotlib->roboflow) (3.2.3)\n",
      "Requirement already satisfied: charset_normalizer<4,>=2 in /Users/theraq17/Documents/GitHub/basketball_analysis/.venv/lib/python3.10/site-packages (from requests->roboflow) (3.4.2)\n"
     ]
    }
   ],
   "source": [
    "!pip install ultralytics\n",
    "!pip install roboflow"
   ]
  },
  {
   "cell_type": "code",
   "execution_count": null,
   "metadata": {
    "id": "O7EzPqaOjnjF"
   },
   "outputs": [],
   "source": []
  },
  {
   "cell_type": "markdown",
   "metadata": {
    "id": "HHPe6Bh8joIf"
   },
   "source": [
    "# Imports"
   ]
  },
  {
   "cell_type": "code",
   "execution_count": 2,
   "metadata": {
    "id": "HWnKQEpfjcKZ"
   },
   "outputs": [],
   "source": [
    "import shutil\n",
    "from roboflow import Roboflow"
   ]
  },
  {
   "cell_type": "code",
   "execution_count": null,
   "metadata": {
    "id": "FRNZ8HwcjphH"
   },
   "outputs": [],
   "source": []
  },
  {
   "cell_type": "markdown",
   "metadata": {
    "id": "BUtqTZzydkLG"
   },
   "source": [
    "# YOLO v5"
   ]
  },
  {
   "cell_type": "code",
   "execution_count": 3,
   "metadata": {
    "colab": {
     "base_uri": "https://localhost:8080/"
    },
    "id": "U2Jol-H-dkBu",
    "outputId": "8abb4273-70dc-4539-a297-0113f53c7f07"
   },
   "outputs": [
    {
     "name": "stdout",
     "output_type": "stream",
     "text": [
      "loading Roboflow workspace...\n",
      "loading Roboflow project...\n"
     ]
    },
    {
     "name": "stderr",
     "output_type": "stream",
     "text": [
      "Downloading Dataset Version Zip in Basketball-Players-17 to yolov5pytorch:: 100%|█| 2302"
     ]
    },
    {
     "name": "stdout",
     "output_type": "stream",
     "text": [
      "\n"
     ]
    },
    {
     "name": "stderr",
     "output_type": "stream",
     "text": [
      "\n",
      "Extracting Dataset Version Zip to Basketball-Players-17 in yolov5pytorch:: 100%|█| 652/6\n"
     ]
    }
   ],
   "source": [
    "roboflow_api_key = \"kruYbMa9g8BVWJEmtfzD\"\n",
    "rf = Roboflow(api_key=roboflow_api_key )\n",
    "project = rf.workspace(\"workspace-5ujvu\").project(\"basketball-players-fy4c2-vfsuv\")\n",
    "version = project.version(17)\n",
    "dataset = version.download(\"yolov5\")\n"
   ]
  },
  {
   "cell_type": "code",
   "execution_count": 4,
   "metadata": {
    "colab": {
     "base_uri": "https://localhost:8080/",
     "height": 35
    },
    "id": "cjEF8pnPdj_X",
    "outputId": "b717976d-5ccc-470a-85be-6296c3161d08"
   },
   "outputs": [
    {
     "data": {
      "text/plain": [
       "'Basketball-Players-17/Basketball-Players-17/valid'"
      ]
     },
     "execution_count": 4,
     "metadata": {},
     "output_type": "execute_result"
    }
   ],
   "source": [
    "\n",
    "\n",
    "shutil.move(\"Basketball-Players-17/train\",\n",
    "\"Basketball-Players-17/Basketball-Players-17/train\",\n",
    ")\n",
    "shutil.move(\"Basketball-Players-17/valid\",\n",
    "\"Basketball-Players-17/Basketball-Players-17/valid\",\n",
    ")"
   ]
  },
  {
   "cell_type": "code",
   "execution_count": null,
   "metadata": {},
   "outputs": [],
   "source": []
  },
  {
   "cell_type": "code",
   "execution_count": null,
   "metadata": {
    "colab": {
     "base_uri": "https://localhost:8080/"
    },
    "id": "HiCqti7ned36",
    "outputId": "08ca61e6-589b-41e1-b636-f7f795001464"
   },
   "outputs": [
    {
     "name": "stdout",
     "output_type": "stream",
     "text": [
      "Downloading https://github.com/ultralytics/assets/releases/download/v8.3.0/yolov5l6u.pt to 'yolov5l6u.pt'...\n",
      "100%|████████████████████████████████████████| 165M/165M [00:04<00:00, 37.1MB/s]\n",
      "New https://pypi.org/project/ultralytics/8.3.170 available 😃 Update with 'pip install -U ultralytics'\n",
      "Ultralytics 8.3.67 🚀 Python-3.10.9 torch-2.2.0 CPU (Apple M2)\n",
      "\u001b[34m\u001b[1mengine/trainer: \u001b[0mtask=detect, mode=train, model=yolov5l6u.pt, data=/Users/theraq17/Documents/GitHub/basketball_analysis/training_notebooks/Basketball-Players-17/data.yaml, epochs=250, time=None, patience=100, batch=16, imgsz=640, save=True, save_period=-1, cache=False, device=None, workers=8, project=None, name=train, exist_ok=False, pretrained=True, optimizer=auto, verbose=True, seed=0, deterministic=True, single_cls=False, rect=False, cos_lr=False, close_mosaic=10, resume=False, amp=True, fraction=1.0, profile=False, freeze=None, multi_scale=False, overlap_mask=True, mask_ratio=4, dropout=0.0, val=True, split=val, save_json=False, save_hybrid=False, conf=None, iou=0.7, max_det=300, half=False, dnn=False, plots=True, source=None, vid_stride=1, stream_buffer=False, visualize=False, augment=False, agnostic_nms=False, classes=None, retina_masks=False, embed=None, show=False, save_frames=False, save_txt=False, save_conf=False, save_crop=False, show_labels=True, show_conf=True, show_boxes=True, line_width=None, format=torchscript, keras=False, optimize=False, int8=False, dynamic=False, simplify=True, opset=None, workspace=None, nms=False, lr0=0.01, lrf=0.01, momentum=0.937, weight_decay=0.0005, warmup_epochs=3.0, warmup_momentum=0.8, warmup_bias_lr=0.1, box=7.5, cls=0.5, dfl=1.5, pose=12.0, kobj=1.0, nbs=64, hsv_h=0.015, hsv_s=0.7, hsv_v=0.4, degrees=0.0, translate=0.1, scale=0.5, shear=0.0, perspective=0.0, flipud=0.0, fliplr=0.5, bgr=0.0, mosaic=1.0, mixup=0.0, copy_paste=0.0, copy_paste_mode=flip, auto_augment=randaugment, erasing=0.4, crop_fraction=1.0, cfg=None, tracker=botsort.yaml, save_dir=/Users/theraq17/Documents/GitHub/basketball_analysis/runs/detect/train\n",
      "Overriding model.yaml nc=80 with nc=7\n",
      "\n",
      "                   from  n    params  module                                       arguments                     \n",
      "  0                  -1  1      7040  ultralytics.nn.modules.conv.Conv             [3, 64, 6, 2, 2]              \n",
      "  1                  -1  1     73984  ultralytics.nn.modules.conv.Conv             [64, 128, 3, 2]               \n",
      "  2                  -1  3    156928  ultralytics.nn.modules.block.C3              [128, 128, 3]                 \n",
      "  3                  -1  1    295424  ultralytics.nn.modules.conv.Conv             [128, 256, 3, 2]              \n",
      "  4                  -1  6   1118208  ultralytics.nn.modules.block.C3              [256, 256, 6]                 \n",
      "  5                  -1  1   1180672  ultralytics.nn.modules.conv.Conv             [256, 512, 3, 2]              \n",
      "  6                  -1  9   6433792  ultralytics.nn.modules.block.C3              [512, 512, 9]                 \n",
      "  7                  -1  1   3540480  ultralytics.nn.modules.conv.Conv             [512, 768, 3, 2]              \n",
      "  8                  -1  3   5611008  ultralytics.nn.modules.block.C3              [768, 768, 3]                 \n",
      "  9                  -1  1   7079936  ultralytics.nn.modules.conv.Conv             [768, 1024, 3, 2]             \n",
      " 10                  -1  3   9971712  ultralytics.nn.modules.block.C3              [1024, 1024, 3]               \n",
      " 11                  -1  1   2624512  ultralytics.nn.modules.block.SPPF            [1024, 1024, 5]               \n",
      " 12                  -1  1    787968  ultralytics.nn.modules.conv.Conv             [1024, 768, 1, 1]             \n",
      " 13                  -1  1         0  torch.nn.modules.upsampling.Upsample         [None, 2, 'nearest']          \n",
      " 14             [-1, 8]  1         0  ultralytics.nn.modules.conv.Concat           [1]                           \n",
      " 15                  -1  3   6200832  ultralytics.nn.modules.block.C3              [1536, 768, 3, False]         \n",
      " 16                  -1  1    394240  ultralytics.nn.modules.conv.Conv             [768, 512, 1, 1]              \n",
      " 17                  -1  1         0  torch.nn.modules.upsampling.Upsample         [None, 2, 'nearest']          \n",
      " 18             [-1, 6]  1         0  ultralytics.nn.modules.conv.Concat           [1]                           \n",
      " 19                  -1  3   2757632  ultralytics.nn.modules.block.C3              [1024, 512, 3, False]         \n",
      " 20                  -1  1    131584  ultralytics.nn.modules.conv.Conv             [512, 256, 1, 1]              \n",
      " 21                  -1  1         0  torch.nn.modules.upsampling.Upsample         [None, 2, 'nearest']          \n",
      " 22             [-1, 4]  1         0  ultralytics.nn.modules.conv.Concat           [1]                           \n",
      " 23                  -1  3    690688  ultralytics.nn.modules.block.C3              [512, 256, 3, False]          \n",
      " 24                  -1  1    590336  ultralytics.nn.modules.conv.Conv             [256, 256, 3, 2]              \n",
      " 25            [-1, 20]  1         0  ultralytics.nn.modules.conv.Concat           [1]                           \n",
      " 26                  -1  3   2495488  ultralytics.nn.modules.block.C3              [512, 512, 3, False]          \n",
      " 27                  -1  1   2360320  ultralytics.nn.modules.conv.Conv             [512, 512, 3, 2]              \n",
      " 28            [-1, 16]  1         0  ultralytics.nn.modules.conv.Concat           [1]                           \n",
      " 29                  -1  3   5807616  ultralytics.nn.modules.block.C3              [1024, 768, 3, False]         \n",
      " 30                  -1  1   5309952  ultralytics.nn.modules.conv.Conv             [768, 768, 3, 2]              \n",
      " 31            [-1, 12]  1         0  ultralytics.nn.modules.conv.Concat           [1]                           \n",
      " 32                  -1  3  10496000  ultralytics.nn.modules.block.C3              [1536, 1024, 3, False]        \n",
      " 33    [23, 26, 29, 32]  1   9908524  ultralytics.nn.modules.head.Detect           [7, [256, 512, 768, 1024]]    \n",
      "YOLOv5l6u summary: 540 layers, 86,024,876 parameters, 86,024,860 gradients, 137.7 GFLOPs\n",
      "\n",
      "Transferred 891/899 items from pretrained weights\n",
      "Freezing layer 'model.33.dfl.conv.weight'\n",
      "\u001b[34m\u001b[1mtrain: \u001b[0mScanning /Users/theraq17/Documents/GitHub/basketball_analysis/training_no\u001b[0m\n",
      "\u001b[34m\u001b[1mtrain: \u001b[0mNew cache created: /Users/theraq17/Documents/GitHub/basketball_analysis/training_notebooks/Basketball-Players-17/Basketball-Players-17/train/labels.cache\n",
      "\u001b[34m\u001b[1mval: \u001b[0mScanning /Users/theraq17/Documents/GitHub/basketball_analysis/training_note\u001b[0m\n",
      "\u001b[34m\u001b[1mval: \u001b[0mNew cache created: /Users/theraq17/Documents/GitHub/basketball_analysis/training_notebooks/Basketball-Players-17/Basketball-Players-17/valid/labels.cache\n"
     ]
    }
   ],
   "source": [
    "!yolo task=detect mode=train model=yolov5l6u.pt data={dataset.location}/data.yaml epochs=250 imgsz=640"
   ]
  },
  {
   "cell_type": "code",
   "execution_count": null,
   "metadata": {
    "colab": {
     "background_save": true
    },
    "id": "_U_o5abEjCyL"
   },
   "outputs": [],
   "source": []
  },
  {
   "cell_type": "code",
   "execution_count": null,
   "metadata": {
    "colab": {
     "background_save": true
    },
    "id": "gSZIhxhijCvt"
   },
   "outputs": [],
   "source": []
  },
  {
   "cell_type": "code",
   "execution_count": null,
   "metadata": {
    "id": "xzfFlb7cjCtj"
   },
   "outputs": [],
   "source": []
  },
  {
   "cell_type": "code",
   "execution_count": null,
   "metadata": {
    "id": "jWGb2nQcjCrb"
   },
   "outputs": [],
   "source": []
  }
 ],
 "metadata": {
  "accelerator": "GPU",
  "colab": {
   "gpuType": "T4",
   "provenance": []
  },
  "kernelspec": {
   "display_name": "Python 3 (ipykernel)",
   "language": "python",
   "name": "python3"
  },
  "language_info": {
   "codemirror_mode": {
    "name": "ipython",
    "version": 3
   },
   "file_extension": ".py",
   "mimetype": "text/x-python",
   "name": "python",
   "nbconvert_exporter": "python",
   "pygments_lexer": "ipython3",
   "version": "3.10.9"
  }
 },
 "nbformat": 4,
 "nbformat_minor": 4
}
